{
  "nbformat": 4,
  "nbformat_minor": 0,
  "metadata": {
    "colab": {
      "provenance": []
    },
    "kernelspec": {
      "name": "python3",
      "display_name": "Python 3"
    },
    "language_info": {
      "name": "python"
    }
  },
  "cells": [
    {
      "cell_type": "code",
      "execution_count": 1,
      "metadata": {
        "colab": {
          "base_uri": "https://localhost:8080/",
          "height": 73
        },
        "id": "haLswcbZrQs9",
        "outputId": "cfe49c87-9d8b-4c50-fcb3-bb972e883714"
      },
      "outputs": [
        {
          "output_type": "display_data",
          "data": {
            "text/plain": [
              "<IPython.core.display.HTML object>"
            ],
            "text/html": [
              "\n",
              "     <input type=\"file\" id=\"files-a7d5868a-98de-4f02-a29a-5b86a420a9e9\" name=\"files[]\" multiple disabled\n",
              "        style=\"border:none\" />\n",
              "     <output id=\"result-a7d5868a-98de-4f02-a29a-5b86a420a9e9\">\n",
              "      Upload widget is only available when the cell has been executed in the\n",
              "      current browser session. Please rerun this cell to enable.\n",
              "      </output>\n",
              "      <script>// Copyright 2017 Google LLC\n",
              "//\n",
              "// Licensed under the Apache License, Version 2.0 (the \"License\");\n",
              "// you may not use this file except in compliance with the License.\n",
              "// You may obtain a copy of the License at\n",
              "//\n",
              "//      http://www.apache.org/licenses/LICENSE-2.0\n",
              "//\n",
              "// Unless required by applicable law or agreed to in writing, software\n",
              "// distributed under the License is distributed on an \"AS IS\" BASIS,\n",
              "// WITHOUT WARRANTIES OR CONDITIONS OF ANY KIND, either express or implied.\n",
              "// See the License for the specific language governing permissions and\n",
              "// limitations under the License.\n",
              "\n",
              "/**\n",
              " * @fileoverview Helpers for google.colab Python module.\n",
              " */\n",
              "(function(scope) {\n",
              "function span(text, styleAttributes = {}) {\n",
              "  const element = document.createElement('span');\n",
              "  element.textContent = text;\n",
              "  for (const key of Object.keys(styleAttributes)) {\n",
              "    element.style[key] = styleAttributes[key];\n",
              "  }\n",
              "  return element;\n",
              "}\n",
              "\n",
              "// Max number of bytes which will be uploaded at a time.\n",
              "const MAX_PAYLOAD_SIZE = 100 * 1024;\n",
              "\n",
              "function _uploadFiles(inputId, outputId) {\n",
              "  const steps = uploadFilesStep(inputId, outputId);\n",
              "  const outputElement = document.getElementById(outputId);\n",
              "  // Cache steps on the outputElement to make it available for the next call\n",
              "  // to uploadFilesContinue from Python.\n",
              "  outputElement.steps = steps;\n",
              "\n",
              "  return _uploadFilesContinue(outputId);\n",
              "}\n",
              "\n",
              "// This is roughly an async generator (not supported in the browser yet),\n",
              "// where there are multiple asynchronous steps and the Python side is going\n",
              "// to poll for completion of each step.\n",
              "// This uses a Promise to block the python side on completion of each step,\n",
              "// then passes the result of the previous step as the input to the next step.\n",
              "function _uploadFilesContinue(outputId) {\n",
              "  const outputElement = document.getElementById(outputId);\n",
              "  const steps = outputElement.steps;\n",
              "\n",
              "  const next = steps.next(outputElement.lastPromiseValue);\n",
              "  return Promise.resolve(next.value.promise).then((value) => {\n",
              "    // Cache the last promise value to make it available to the next\n",
              "    // step of the generator.\n",
              "    outputElement.lastPromiseValue = value;\n",
              "    return next.value.response;\n",
              "  });\n",
              "}\n",
              "\n",
              "/**\n",
              " * Generator function which is called between each async step of the upload\n",
              " * process.\n",
              " * @param {string} inputId Element ID of the input file picker element.\n",
              " * @param {string} outputId Element ID of the output display.\n",
              " * @return {!Iterable<!Object>} Iterable of next steps.\n",
              " */\n",
              "function* uploadFilesStep(inputId, outputId) {\n",
              "  const inputElement = document.getElementById(inputId);\n",
              "  inputElement.disabled = false;\n",
              "\n",
              "  const outputElement = document.getElementById(outputId);\n",
              "  outputElement.innerHTML = '';\n",
              "\n",
              "  const pickedPromise = new Promise((resolve) => {\n",
              "    inputElement.addEventListener('change', (e) => {\n",
              "      resolve(e.target.files);\n",
              "    });\n",
              "  });\n",
              "\n",
              "  const cancel = document.createElement('button');\n",
              "  inputElement.parentElement.appendChild(cancel);\n",
              "  cancel.textContent = 'Cancel upload';\n",
              "  const cancelPromise = new Promise((resolve) => {\n",
              "    cancel.onclick = () => {\n",
              "      resolve(null);\n",
              "    };\n",
              "  });\n",
              "\n",
              "  // Wait for the user to pick the files.\n",
              "  const files = yield {\n",
              "    promise: Promise.race([pickedPromise, cancelPromise]),\n",
              "    response: {\n",
              "      action: 'starting',\n",
              "    }\n",
              "  };\n",
              "\n",
              "  cancel.remove();\n",
              "\n",
              "  // Disable the input element since further picks are not allowed.\n",
              "  inputElement.disabled = true;\n",
              "\n",
              "  if (!files) {\n",
              "    return {\n",
              "      response: {\n",
              "        action: 'complete',\n",
              "      }\n",
              "    };\n",
              "  }\n",
              "\n",
              "  for (const file of files) {\n",
              "    const li = document.createElement('li');\n",
              "    li.append(span(file.name, {fontWeight: 'bold'}));\n",
              "    li.append(span(\n",
              "        `(${file.type || 'n/a'}) - ${file.size} bytes, ` +\n",
              "        `last modified: ${\n",
              "            file.lastModifiedDate ? file.lastModifiedDate.toLocaleDateString() :\n",
              "                                    'n/a'} - `));\n",
              "    const percent = span('0% done');\n",
              "    li.appendChild(percent);\n",
              "\n",
              "    outputElement.appendChild(li);\n",
              "\n",
              "    const fileDataPromise = new Promise((resolve) => {\n",
              "      const reader = new FileReader();\n",
              "      reader.onload = (e) => {\n",
              "        resolve(e.target.result);\n",
              "      };\n",
              "      reader.readAsArrayBuffer(file);\n",
              "    });\n",
              "    // Wait for the data to be ready.\n",
              "    let fileData = yield {\n",
              "      promise: fileDataPromise,\n",
              "      response: {\n",
              "        action: 'continue',\n",
              "      }\n",
              "    };\n",
              "\n",
              "    // Use a chunked sending to avoid message size limits. See b/62115660.\n",
              "    let position = 0;\n",
              "    do {\n",
              "      const length = Math.min(fileData.byteLength - position, MAX_PAYLOAD_SIZE);\n",
              "      const chunk = new Uint8Array(fileData, position, length);\n",
              "      position += length;\n",
              "\n",
              "      const base64 = btoa(String.fromCharCode.apply(null, chunk));\n",
              "      yield {\n",
              "        response: {\n",
              "          action: 'append',\n",
              "          file: file.name,\n",
              "          data: base64,\n",
              "        },\n",
              "      };\n",
              "\n",
              "      let percentDone = fileData.byteLength === 0 ?\n",
              "          100 :\n",
              "          Math.round((position / fileData.byteLength) * 100);\n",
              "      percent.textContent = `${percentDone}% done`;\n",
              "\n",
              "    } while (position < fileData.byteLength);\n",
              "  }\n",
              "\n",
              "  // All done.\n",
              "  yield {\n",
              "    response: {\n",
              "      action: 'complete',\n",
              "    }\n",
              "  };\n",
              "}\n",
              "\n",
              "scope.google = scope.google || {};\n",
              "scope.google.colab = scope.google.colab || {};\n",
              "scope.google.colab._files = {\n",
              "  _uploadFiles,\n",
              "  _uploadFilesContinue,\n",
              "};\n",
              "})(self);\n",
              "</script> "
            ]
          },
          "metadata": {}
        },
        {
          "output_type": "stream",
          "name": "stdout",
          "text": [
            "Saving train.csv to train.csv\n"
          ]
        }
      ],
      "source": [
        "# Import necessary libraries\n",
        "import pandas as pd\n",
        "import numpy as np\n",
        "\n",
        "# Upload the file manually\n",
        "from google.colab import files\n",
        "uploaded = files.upload()\n",
        "\n",
        "# Load the uploaded CSV file\n",
        "df = pd.read_csv(\"train.csv\")  # replace with the actual file name\n"
      ]
    },
    {
      "cell_type": "code",
      "source": [
        "# Load the CSV with bad line handling\n",
        "df = pd.read_csv(\"train.csv\", on_bad_lines='skip', encoding='utf-8')\n"
      ],
      "metadata": {
        "id": "JwrozRQkrc-n"
      },
      "execution_count": 2,
      "outputs": []
    },
    {
      "cell_type": "code",
      "source": [
        "# Check for missing values\n",
        "print(\"Missing values per column:\\n\", df.isnull().sum())\n",
        "\n",
        "# Decide on imputation or dropping based on data type and business logic.\n",
        "# Example imputation (you may adjust this):\n",
        "# Replace numerical columns' missing values with the mean or median\n",
        "# Replace categorical columns with the mode\n",
        "for column in df.columns:\n",
        "    if df[column].isnull().sum() > 0:\n",
        "        if df[column].dtype == 'object':  # Categorical column\n",
        "            df[column].fillna(df[column].mode()[0], inplace=True)\n",
        "        else:  # Numerical column\n",
        "            df[column].fillna(df[column].mean(), inplace=True)\n",
        "\n",
        "print(\"After imputation, missing values per column:\\n\", df.isnull().sum())\n"
      ],
      "metadata": {
        "colab": {
          "base_uri": "https://localhost:8080/"
        },
        "id": "YPY5-YKHsRf9",
        "outputId": "9634adfc-019a-4e80-be41-c3dbbf41739f"
      },
      "execution_count": 3,
      "outputs": [
        {
          "output_type": "stream",
          "name": "stdout",
          "text": [
            "Missing values per column:\n",
            " Unnamed: 0              0\n",
            "Name                    0\n",
            "Location                0\n",
            "Year                    0\n",
            "Kilometers_Driven       0\n",
            "Fuel_Type               0\n",
            "Transmission            0\n",
            "Owner_Type              0\n",
            "Mileage                 2\n",
            "Engine                 36\n",
            "Power                  36\n",
            "Seats                  38\n",
            "New_Price            5032\n",
            "Price                   0\n",
            "dtype: int64\n",
            "After imputation, missing values per column:\n",
            " Unnamed: 0           0\n",
            "Name                 0\n",
            "Location             0\n",
            "Year                 0\n",
            "Kilometers_Driven    0\n",
            "Fuel_Type            0\n",
            "Transmission         0\n",
            "Owner_Type           0\n",
            "Mileage              0\n",
            "Engine               0\n",
            "Power                0\n",
            "Seats                0\n",
            "New_Price            0\n",
            "Price                0\n",
            "dtype: int64\n"
          ]
        },
        {
          "output_type": "stream",
          "name": "stderr",
          "text": [
            "<ipython-input-3-ea9baaa9d8bc>:11: FutureWarning: A value is trying to be set on a copy of a DataFrame or Series through chained assignment using an inplace method.\n",
            "The behavior will change in pandas 3.0. This inplace method will never work because the intermediate object on which we are setting values always behaves as a copy.\n",
            "\n",
            "For example, when doing 'df[col].method(value, inplace=True)', try using 'df.method({col: value}, inplace=True)' or df[col] = df[col].method(value) instead, to perform the operation inplace on the original object.\n",
            "\n",
            "\n",
            "  df[column].fillna(df[column].mode()[0], inplace=True)\n",
            "<ipython-input-3-ea9baaa9d8bc>:13: FutureWarning: A value is trying to be set on a copy of a DataFrame or Series through chained assignment using an inplace method.\n",
            "The behavior will change in pandas 3.0. This inplace method will never work because the intermediate object on which we are setting values always behaves as a copy.\n",
            "\n",
            "For example, when doing 'df[col].method(value, inplace=True)', try using 'df.method({col: value}, inplace=True)' or df[col] = df[col].method(value) instead, to perform the operation inplace on the original object.\n",
            "\n",
            "\n",
            "  df[column].fillna(df[column].mean(), inplace=True)\n"
          ]
        }
      ]
    },
    {
      "cell_type": "markdown",
      "source": [
        "Justification: Since the mean maintains data integrity better than deleting rows, we utilized it for numerical data and the mode for categorical data."
      ],
      "metadata": {
        "id": "9gKPQ2KmtAGm"
      }
    },
    {
      "cell_type": "code",
      "source": [
        "import re\n",
        "\n",
        "# Define a function to extract numeric values\n",
        "def extract_numeric(value):\n",
        "    try:\n",
        "        return float(re.findall(r\"[-+]?\\d*\\.\\d+|\\d+\", str(value))[0])\n",
        "    except IndexError:  # in case there is no numeric part found\n",
        "        return np.nan  # or set a default value if appropriate\n",
        "\n",
        "# Apply this function to relevant columns to clean the units\n",
        "df['Mileage'] = df['Mileage'].apply(extract_numeric)\n",
        "df['Engine'] = df['Engine'].apply(extract_numeric)\n",
        "df['Power'] = df['Power'].apply(extract_numeric)\n",
        "df['New_Price'] = df['New_Price'].apply(extract_numeric)\n",
        "\n",
        "# Check the output\n",
        "print(df[['Mileage', 'Engine', 'Power', 'New_Price']].head())\n"
      ],
      "metadata": {
        "colab": {
          "base_uri": "https://localhost:8080/"
        },
        "id": "7xYM8mwNswxK",
        "outputId": "6f8dc3c7-c927-4ed5-d05d-c77abc9edaa2"
      },
      "execution_count": 4,
      "outputs": [
        {
          "output_type": "stream",
          "name": "stdout",
          "text": [
            "   Mileage  Engine   Power  New_Price\n",
            "0    19.67  1582.0  126.20       4.78\n",
            "1    13.00  1199.0   88.70       8.61\n",
            "2    20.77  1248.0   88.76       4.78\n",
            "3    15.20  1968.0  140.80       4.78\n",
            "4    23.08  1461.0   63.10       4.78\n"
          ]
        }
      ]
    },
    {
      "cell_type": "code",
      "source": [
        "# One-hot encode categorical variables\n",
        "df = pd.get_dummies(df, columns=['Fuel_Type', 'Transmission'], drop_first=True)\n",
        "print(\"Data after one-hot encoding:\\n\", df.head())\n"
      ],
      "metadata": {
        "colab": {
          "base_uri": "https://localhost:8080/"
        },
        "id": "6MI233B5tOQV",
        "outputId": "af87904d-ff8b-41f9-e44d-f80c836535d0"
      },
      "execution_count": 5,
      "outputs": [
        {
          "output_type": "stream",
          "name": "stdout",
          "text": [
            "Data after one-hot encoding:\n",
            "    Unnamed: 0                              Name    Location  Year  \\\n",
            "0           1  Hyundai Creta 1.6 CRDi SX Option        Pune  2015   \n",
            "1           2                      Honda Jazz V     Chennai  2011   \n",
            "2           3                 Maruti Ertiga VDI     Chennai  2012   \n",
            "3           4   Audi A4 New 2.0 TDI Multitronic  Coimbatore  2013   \n",
            "4           6            Nissan Micra Diesel XV      Jaipur  2013   \n",
            "\n",
            "   Kilometers_Driven Owner_Type  Mileage  Engine   Power  Seats  New_Price  \\\n",
            "0              41000      First    19.67  1582.0  126.20    5.0       4.78   \n",
            "1              46000      First    13.00  1199.0   88.70    5.0       8.61   \n",
            "2              87000      First    20.77  1248.0   88.76    7.0       4.78   \n",
            "3              40670     Second    15.20  1968.0  140.80    5.0       4.78   \n",
            "4              86999      First    23.08  1461.0   63.10    5.0       4.78   \n",
            "\n",
            "   Price  Fuel_Type_Electric  Fuel_Type_Petrol  Transmission_Manual  \n",
            "0  12.50               False             False                 True  \n",
            "1   4.50               False              True                 True  \n",
            "2   6.00               False             False                 True  \n",
            "3  17.74               False             False                False  \n",
            "4   3.50               False             False                 True  \n"
          ]
        }
      ]
    },
    {
      "cell_type": "code",
      "source": [
        "# Adding a new feature \"Age\"\n",
        "df['Age'] = 2024 - df['Year']\n",
        "print(\"Data after adding new feature:\\n\", df[['Year', 'Age']].head())\n"
      ],
      "metadata": {
        "colab": {
          "base_uri": "https://localhost:8080/"
        },
        "id": "hOWKbfrZtpNJ",
        "outputId": "6c99d891-30f9-4eb7-989e-803e786f4275"
      },
      "execution_count": 6,
      "outputs": [
        {
          "output_type": "stream",
          "name": "stdout",
          "text": [
            "Data after adding new feature:\n",
            "    Year  Age\n",
            "0  2015    9\n",
            "1  2011   13\n",
            "2  2012   12\n",
            "3  2013   11\n",
            "4  2013   11\n"
          ]
        }
      ]
    },
    {
      "cell_type": "code",
      "source": [
        "# Display column names to verify them\n",
        "print(\"Column names in the dataset:\", df.columns)\n"
      ],
      "metadata": {
        "colab": {
          "base_uri": "https://localhost:8080/"
        },
        "id": "xte4484wtz8T",
        "outputId": "dab445ed-c7a1-4488-9071-7ecaea95b7b1"
      },
      "execution_count": 7,
      "outputs": [
        {
          "output_type": "stream",
          "name": "stdout",
          "text": [
            "Column names in the dataset: Index(['Unnamed: 0', 'Name', 'Location', 'Year', 'Kilometers_Driven',\n",
            "       'Owner_Type', 'Mileage', 'Engine', 'Power', 'Seats', 'New_Price',\n",
            "       'Price', 'Fuel_Type_Electric', 'Fuel_Type_Petrol',\n",
            "       'Transmission_Manual', 'Age'],\n",
            "      dtype='object')\n"
          ]
        }
      ]
    },
    {
      "cell_type": "code",
      "source": [
        "# Strip any leading/trailing whitespace from column names\n",
        "df.columns = df.columns.str.strip()\n"
      ],
      "metadata": {
        "id": "335s-0edt9mA"
      },
      "execution_count": 8,
      "outputs": []
    },
    {
      "cell_type": "code",
      "source": [
        "# Select specific columns\n",
        "selected_columns = df[['Name', 'Location', 'Price', 'Mileage', 'Engine']]\n",
        "print(\"Selected columns:\\n\", selected_columns.head())\n",
        "\n",
        "# Filter: Show cars with Mileage above 15 km/l\n",
        "filtered_data = df[df['Mileage'] > 15]\n",
        "print(\"Filtered data (Mileage > 15 km/l):\\n\", filtered_data.head())\n",
        "\n",
        "# Rename: Rename the column \"Price\" to \"Used_Price\"\n",
        "df.rename(columns={'Price': 'Used_Price'}, inplace=True)\n",
        "print(\"Data with renamed column:\\n\", df.head())\n",
        "\n",
        "# Mutate: Add a new feature, e.g., Price_per_Horsepower\n",
        "df['Price_per_Horsepower'] = df['Used_Price'] / df['Power']\n",
        "print(\"Data after adding Price_per_Horsepower:\\n\", df[['Used_Price', 'Power', 'Price_per_Horsepower']].head())\n",
        "\n",
        "# Arrange: Sort by 'Used_Price'\n",
        "arranged_data = df.sort_values(by='Used_Price', ascending=False)\n",
        "print(\"Arranged data by Used_Price:\\n\", arranged_data.head())\n",
        "\n",
        "# Summarize: Calculate the mean and max mileage grouped by Fuel Type (Petrol vs Electric)\n",
        "summary = df.groupby('Fuel_Type_Petrol').agg({'Mileage': ['mean', 'max']})\n",
        "print(\"Summary of Mileage grouped by Fuel Type:\\n\", summary)\n"
      ],
      "metadata": {
        "colab": {
          "base_uri": "https://localhost:8080/"
        },
        "id": "nK4epg2OusC8",
        "outputId": "779f3ff1-be8d-4b0a-9741-bb023c02e06d"
      },
      "execution_count": 9,
      "outputs": [
        {
          "output_type": "stream",
          "name": "stdout",
          "text": [
            "Selected columns:\n",
            "                                Name    Location  Price  Mileage  Engine\n",
            "0  Hyundai Creta 1.6 CRDi SX Option        Pune  12.50    19.67  1582.0\n",
            "1                      Honda Jazz V     Chennai   4.50    13.00  1199.0\n",
            "2                 Maruti Ertiga VDI     Chennai   6.00    20.77  1248.0\n",
            "3   Audi A4 New 2.0 TDI Multitronic  Coimbatore  17.74    15.20  1968.0\n",
            "4            Nissan Micra Diesel XV      Jaipur   3.50    23.08  1461.0\n",
            "Filtered data (Mileage > 15 km/l):\n",
            "    Unnamed: 0                                 Name    Location  Year  \\\n",
            "0           1     Hyundai Creta 1.6 CRDi SX Option        Pune  2015   \n",
            "2           3                    Maruti Ertiga VDI     Chennai  2012   \n",
            "3           4      Audi A4 New 2.0 TDI Multitronic  Coimbatore  2013   \n",
            "4           6               Nissan Micra Diesel XV      Jaipur  2013   \n",
            "6           8  Volkswagen Vento Diesel Comfortline        Pune  2013   \n",
            "\n",
            "   Kilometers_Driven Owner_Type  Mileage  Engine   Power  Seats  New_Price  \\\n",
            "0              41000      First    19.67  1582.0  126.20    5.0       4.78   \n",
            "2              87000      First    20.77  1248.0   88.76    7.0       4.78   \n",
            "3              40670     Second    15.20  1968.0  140.80    5.0       4.78   \n",
            "4              86999      First    23.08  1461.0   63.10    5.0       4.78   \n",
            "6              64430      First    20.54  1598.0  103.60    5.0       4.78   \n",
            "\n",
            "   Price  Fuel_Type_Electric  Fuel_Type_Petrol  Transmission_Manual  Age  \n",
            "0  12.50               False             False                 True    9  \n",
            "2   6.00               False             False                 True   12  \n",
            "3  17.74               False             False                False   11  \n",
            "4   3.50               False             False                 True   11  \n",
            "6   5.20               False             False                 True   11  \n",
            "Data with renamed column:\n",
            "    Unnamed: 0                              Name    Location  Year  \\\n",
            "0           1  Hyundai Creta 1.6 CRDi SX Option        Pune  2015   \n",
            "1           2                      Honda Jazz V     Chennai  2011   \n",
            "2           3                 Maruti Ertiga VDI     Chennai  2012   \n",
            "3           4   Audi A4 New 2.0 TDI Multitronic  Coimbatore  2013   \n",
            "4           6            Nissan Micra Diesel XV      Jaipur  2013   \n",
            "\n",
            "   Kilometers_Driven Owner_Type  Mileage  Engine   Power  Seats  New_Price  \\\n",
            "0              41000      First    19.67  1582.0  126.20    5.0       4.78   \n",
            "1              46000      First    13.00  1199.0   88.70    5.0       8.61   \n",
            "2              87000      First    20.77  1248.0   88.76    7.0       4.78   \n",
            "3              40670     Second    15.20  1968.0  140.80    5.0       4.78   \n",
            "4              86999      First    23.08  1461.0   63.10    5.0       4.78   \n",
            "\n",
            "   Used_Price  Fuel_Type_Electric  Fuel_Type_Petrol  Transmission_Manual  Age  \n",
            "0       12.50               False             False                 True    9  \n",
            "1        4.50               False              True                 True   13  \n",
            "2        6.00               False             False                 True   12  \n",
            "3       17.74               False             False                False   11  \n",
            "4        3.50               False             False                 True   11  \n",
            "Data after adding Price_per_Horsepower:\n",
            "    Used_Price   Power  Price_per_Horsepower\n",
            "0       12.50  126.20              0.099049\n",
            "1        4.50   88.70              0.050733\n",
            "2        6.00   88.76              0.067598\n",
            "3       17.74  140.80              0.125994\n",
            "4        3.50   63.10              0.055468\n",
            "Arranged data by Used_Price:\n",
            "       Unnamed: 0                                         Name    Location  \\\n",
            "3952        4079  Land Rover Range Rover 3.0 Diesel LWB Vogue   Hyderabad   \n",
            "5620        5781                   Lamborghini Gallardo Coupe       Delhi   \n",
            "5752        5919                       Jaguar F Type 5.0 V8 S   Hyderabad   \n",
            "1457        1505              Land Rover Range Rover Sport SE       Kochi   \n",
            "1917        1974                           BMW 7 Series 740Li  Coimbatore   \n",
            "\n",
            "      Year  Kilometers_Driven Owner_Type  Mileage  Engine  Power  Seats  \\\n",
            "3952  2017              25000      First    13.33  2993.0  255.0    5.0   \n",
            "5620  2011               6500      Third     6.40  5204.0  560.0    2.0   \n",
            "5752  2015               8000      First    12.50  5000.0  488.1    2.0   \n",
            "1457  2019              26013      First    12.65  2993.0  255.0    5.0   \n",
            "1917  2018              28060      First    12.05  2979.0  320.0    5.0   \n",
            "\n",
            "      New_Price  Used_Price  Fuel_Type_Electric  Fuel_Type_Petrol  \\\n",
            "3952       2.30      160.00               False             False   \n",
            "5620       4.78      120.00               False              True   \n",
            "5752       4.78      100.00               False              True   \n",
            "1457       1.39       97.07               False             False   \n",
            "1917       4.78       93.67               False              True   \n",
            "\n",
            "      Transmission_Manual  Age  Price_per_Horsepower  \n",
            "3952                False    7              0.627451  \n",
            "5620                False   13              0.214286  \n",
            "5752                False    9              0.204876  \n",
            "1457                False    5              0.380667  \n",
            "1917                False    6              0.292719  \n",
            "Summary of Mileage grouped by Fuel Type:\n",
            "                     Mileage      \n",
            "                       mean   max\n",
            "Fuel_Type_Petrol                 \n",
            "False             18.652817  28.4\n",
            "True              17.576509  26.0\n"
          ]
        }
      ]
    },
    {
      "cell_type": "code",
      "source": [],
      "metadata": {
        "id": "9b41egsyuu5_"
      },
      "execution_count": 9,
      "outputs": []
    }
  ]
}